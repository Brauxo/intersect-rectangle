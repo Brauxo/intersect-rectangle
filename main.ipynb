{
 "cells": [
  {
   "cell_type": "code",
   "execution_count": 1,
   "id": "2e213e86",
   "metadata": {},
   "outputs": [
    {
     "name": "stdout",
     "output_type": "stream",
     "text": [
      "Coordinates of the center of R1 : [22.5, 12.0]\n",
      "Coordinates of the center of R2 : [24.5, 15.5]\n",
      "they are intersect\n"
     ]
    },
    {
     "data": {
      "image/png": "[encoded data removed]",
      "text/plain": [
       "<Figure size 640x480 with 1 Axes>"
      ]
     },
     "metadata": {},
     "output_type": "display_data"
    }
   ],
   "source": [
    "import numpy as np\n",
    "import math\n",
    "import matplotlib\n",
    "from matplotlib import pyplot as plt\n",
    "\n",
    "\n",
    "N = 4 # size of the array\n",
    "\n",
    "R1 = np.random.randint(0,20,size=N)\n",
    "R2 = np.random.randint(0,20,size=N)\n",
    "\n",
    "#Used to debug\n",
    "#print(\"First R1 :\",R1)\n",
    "#print(\"First R2 :\",R2)\n",
    "\n",
    "#now we verify if the width or the height equal to zero\n",
    "\n",
    "while (R1[3] == 0) or (R1[2] == 0) :\n",
    "  R1 = np.random.randint(0,20,size=N)\n",
    "\n",
    "while (R2[3] == 0) or (R2[2] == 0) :\n",
    "  R2 = np.random.randint(0,20,size=N)\n",
    "\n",
    "#Final R1 and R2\n",
    "#print(\"Final R1 :\",R1)\n",
    "#rint(\"Final R2 :\",R2)\n",
    "\n",
    "#now we need to show the rectangles :\n",
    "fig = plt.figure()\n",
    "\n",
    "plt.axis([0,40,0,40]) #create a grid to show our rectangles\n",
    "plt.plot([R1[0] , R1[0]+R1[2] , R1[0]+R1[2] ,  R1[0], R1[0] ],\n",
    "         [R1[1] , R1[1]       , R1[1]+R1[3] ,  R1[1]+R1[3], R1[1] ], 'b-')\n",
    "plt.show\n",
    "plt.plot([R2[0] , R2[0]+R2[2] , R2[0]+R2[2] ,  R2[0], R2[0] ],\n",
    "         [R2[1] , R2[1]       , R2[1]+R2[3] ,  R2[1]+R2[3], R2[1] ], 'r-')\n",
    "plt.show\n",
    "\n",
    "\n",
    "\n",
    "\n",
    "\n",
    "#here we just print the coordinates of the center of each rectangles\n",
    "coR1 = [ R1[0] + (R1[2]/2) ,  R1[1]+(R1[3]/2) ]\n",
    "coR2 = [ R2[0] + (R2[2]/2) ,  R2[1]+(R2[3]/2) ]\n",
    "print(\"Coordinates of the center of R1 :\",coR1)\n",
    "print(\"Coordinates of the center of R2 :\",coR2)\n",
    "\n",
    "#here we test if the rectangles are intersect\n",
    "x=0\n",
    "if (  ( abs(coR1[0]-coR2[0]) <= (R1[2]+R2[2]) /2 ) and ( abs(coR1[1]-coR2[1]) <= (R1[3]+R2[3])/2 )  ) :\n",
    "  print(\"they are intersect\")\n",
    "else :\n",
    "  print(\"they are not intersect\")"
   ]
  },
  {
   "cell_type": "code",
   "execution_count": null,
   "id": "2a9b604c",
   "metadata": {},
   "outputs": [],
   "source": []
  }
 ],
 "metadata": {
  "kernelspec": {
   "display_name": "Python 3 (ipykernel)",
   "language": "python",
   "name": "python3"
  },
  "language_info": {
   "codemirror_mode": {
    "name": "ipython",
    "version": 3
   },
   "file_extension": ".py",
   "mimetype": "text/x-python",
   "name": "python",
   "nbconvert_exporter": "python",
   "pygments_lexer": "ipython3",
   "version": "3.9.13"
  }
 },
 "nbformat": 4,
 "nbformat_minor": 5
}
