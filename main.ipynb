import numpy as np
import math
import matplotlib
from matplotlib import pyplot as plt
from mpl_toolkits.mplot3d import Axes3D


N = 4 # size of the array

R1 = np.random.randint(0,20,size=N)
R2 = np.random.randint(0,20,size=N)

#Used to debug
#print("First R1 :",R1)
#print("First R2 :",R2)

#now we verify if the width or the height equal to zero

while (R1[3] == 0) or (R1[2] == 0) :
  R1 = np.random.randint(0,20,size=N)

while (R2[3] == 0) or (R2[2] == 0) :
  R2 = np.random.randint(0,20,size=N)

#Final R1 and R2
#print("Final R1 :",R1)
#rint("Final R2 :",R2)

#now we need to show the rectangles :
fig = plt.figure()

plt.axis([0,40,0,40]) #create a grid to show our rectangles
plt.plot([R1[0] , R1[0]+R1[2] , R1[0]+R1[2] ,  R1[0], R1[0] ],
         [R1[1] , R1[1]       , R1[1]+R1[3] ,  R1[1]+R1[3], R1[1] ], 'b-')
plt.show
plt.plot([R2[0] , R2[0]+R2[2] , R2[0]+R2[2] ,  R2[0], R2[0] ],
         [R2[1] , R2[1]       , R2[1]+R2[3] ,  R2[1]+R2[3], R2[1] ], 'r-')
plt.show





#here we just print the coordinates of the center of each rectangles
coR1 = [ R1[0] + (R1[2]/2) ,  R1[1]+(R1[3]/2) ]
coR2 = [ R2[0] + (R2[2]/2) ,  R2[1]+(R2[3]/2) ]
print("Coordinates of the center of R1 :",coR1)
print("Coordinates of the center of R2 :",coR2)

#here we test if the rectangles are intersect
x=0
if (  ( abs(coR1[0]-coR2[0]) <= (R1[2]+R2[2]) /2 ) and ( abs(coR1[1]-coR2[1]) <= (R1[3]+R2[3])/2 )  ) :
  print("they are intersect")
else :
  print("they are not intersect")
